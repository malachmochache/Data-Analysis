{
 "cells": [
  {
   "cell_type": "markdown",
   "id": "3194e821-dbbd-4659-ac01-d03863c8ac8d",
   "metadata": {},
   "source": [
    "### Import Data:"
   ]
  },
  {
   "cell_type": "markdown",
   "id": "b131264b-b390-4dc6-a247-14f2c12cec7b",
   "metadata": {},
   "source": [
    "Load the required libraries"
   ]
  },
  {
   "cell_type": "code",
   "execution_count": null,
   "id": "5f5d9ea9-6834-45a6-a6b5-ff8cb3cdd5fb",
   "metadata": {},
   "outputs": [],
   "source": [
    "# load required libraries\n",
    "import pandas as pd\n",
    "import os\n",
    "import csv\n",
    "import zipfile\n",
    "import re"
   ]
  },
  {
   "cell_type": "markdown",
   "id": "0578b4f4-24ef-4de9-a74e-535498129cc2",
   "metadata": {},
   "source": [
    "Import the provided salary data into your Jupyter Notebook."
   ]
  },
  {
   "cell_type": "code",
   "execution_count": null,
   "id": "f11f81c0-ad5a-49d2-b4ff-1ceb1006d6ec",
   "metadata": {},
   "outputs": [],
   "source": [
    "# Define file path\n",
    "file_path = './data/salary-data/Total.csv'\n",
    "\n",
    "# Load the CSV salary data\n",
    "try:\n",
    "    df = pd.read_csv(file_path, low_memory=False)\n",
    "    print('Data imported successfully.')\n",
    "\n",
    "    # Display the first few rows\n",
    "    display(df.head())\n",
    "except FileNotFoundError:\n",
    "    print('Error: The file \\'Total.csv\\' was not found at the specified path.')\n",
    "except Exception as e: # Handle generic exceptions\n",
    "    print(f'An unexpected error occurred: {e}')"
   ]
  },
  {
   "cell_type": "markdown",
   "id": "f0029954-b9a0-4dea-b2dd-24b920b9dd46",
   "metadata": {},
   "source": [
    "### Data Processing with Dictionary:\n",
    "Process the salary data using a Python dictionary."
   ]
  },
  {
   "cell_type": "code",
   "execution_count": null,
   "id": "bd1a484e-71aa-42a8-af24-b7cae48ec8e5",
   "metadata": {},
   "outputs": [],
   "source": [
    "# Convert DataFrame to dictionary (row-wise)\n",
    "try:\n",
    "    salary_data_dict = df.to_dict(orient='records')\n",
    "    print('Dictionary created successfully.')\n",
    "except Exception as e:\n",
    "    print(f'An unexpected error occurred: {e}')\n",
    "    salary_data_dict = None # Define it to avoid reference error later"
   ]
  },
  {
   "cell_type": "markdown",
   "id": "323369e7-7a36-488f-8aa2-a6ed941e324f",
   "metadata": {},
   "source": [
    "### Create Employee Function:\n",
    "Develop a Python function that accepts an employee's name as input and returns their details."
   ]
  },
  {
   "cell_type": "code",
   "execution_count": 8,
   "id": "68727dec-56c5-4da1-8a0a-c2a042819ff1",
   "metadata": {},
   "outputs": [],
   "source": [
    "# Function to accept an employee’s name as input and return their details.\n",
    "def get_employee_details(name):    \n",
    "    try:\n",
    "        # Ensure inputs are valid\n",
    "        if not isinstance(name, str):\n",
    "            raise ValueError('The name must be a string.')\n",
    "    \n",
    "        name = name.strip().lower()\n",
    "\n",
    "        # Search through data\n",
    "        for employee in salary_data_dict:\n",
    "            if isinstance(employee['EmployeeName'], str):\n",
    "                if employee['EmployeeName'].strip().lower() == name:\n",
    "                    return employee\n",
    "        \n",
    "        raise ValueError(f'No employee found with the name \"{name}\".')\n",
    "        \n",
    "    except Exception as e:\n",
    "        print(f'An error occurred: {e}')\n",
    "        return None"
   ]
  },
  {
   "cell_type": "code",
   "execution_count": null,
   "id": "7b0105b4-237d-4ed2-8eb7-ef62398b8bd6",
   "metadata": {},
   "outputs": [],
   "source": [
    "# Example usage:\n",
    "get_employee_details('Marcus Campos')"
   ]
  },
  {
   "cell_type": "markdown",
   "id": "0e45e9af-747f-45ea-aa91-5e81365c1b58",
   "metadata": {},
   "source": [
    "### Export Employee Details:\n",
    "Export an employee's details to a CSV file and save it within a zipped folder named \"Employee Profile.\""
   ]
  },
  {
   "cell_type": "code",
   "execution_count": 9,
   "id": "f828e2d7-f66a-4b03-bf33-8849a0dc49a2",
   "metadata": {},
   "outputs": [],
   "source": [
    "# Function to export data for a specific employee to a CSV file and zip it into a folder.\n",
    "def export_employee_details_to_zip(name):\n",
    "    try:\n",
    "        employee_data = get_employee_details(name)\n",
    "        if not employee_data:\n",
    "            raise ValueError('No employee data provided.')\n",
    "\n",
    "        # Ensure output folder exists\n",
    "        output_folder = 'Employee Profile'\n",
    "        if not os.path.exists(output_folder):\n",
    "            os.makedirs(output_folder)\n",
    "\n",
    "        # Define full path for CSV\n",
    "        safe_name = re.sub(r'[^\\w\\-_. ]', '_', name)\n",
    "        output_file = f\"{safe_name.replace(' ', '_')}_profile.csv\"\n",
    "        csv_path = os.path.join(output_folder, output_file)\n",
    "\n",
    "        # Write employee data to CSV\n",
    "        with open(csv_path, mode='w', newline='', encoding='utf-8') as csvfile:\n",
    "            writer = csv.DictWriter(csvfile, fieldnames=employee_data.keys())\n",
    "            writer.writeheader()\n",
    "            writer.writerow(employee_data)\n",
    "        print(f'Employee data written to: {csv_path}')\n",
    "\n",
    "        # Create a ZIP archive\n",
    "        zip_filename = f'{output_folder}.zip'\n",
    "        with zipfile.ZipFile(zip_filename, 'w', zipfile.ZIP_DEFLATED) as zipf:\n",
    "            zipf.write(csv_path, arcname=output_file)\n",
    "        print(f'Zipped folder created: {zip_filename}')\n",
    "\n",
    "    except Exception as e:\n",
    "        print(f'An error occurred during export: {e}')"
   ]
  },
  {
   "cell_type": "code",
   "execution_count": null,
   "id": "f8b39d32-59f6-4a74-9db7-3efd63fe8c70",
   "metadata": {},
   "outputs": [],
   "source": [
    "# Example usage:\n",
    "export_employee_details_to_zip('Tsehainesh Legese')"
   ]
  }
 ],
 "metadata": {
  "kernelspec": {
   "display_name": "Python [conda env:base] *",
   "language": "python",
   "name": "conda-base-py"
  },
  "language_info": {
   "codemirror_mode": {
    "name": "ipython",
    "version": 3
   },
   "file_extension": ".py",
   "mimetype": "text/x-python",
   "name": "python",
   "nbconvert_exporter": "python",
   "pygments_lexer": "ipython3",
   "version": "3.12.7"
  }
 },
 "nbformat": 4,
 "nbformat_minor": 5
}
